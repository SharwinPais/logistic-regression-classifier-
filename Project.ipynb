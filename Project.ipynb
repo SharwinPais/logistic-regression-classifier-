{
  "metadata": {
    "kernelspec": {
      "name": "python",
      "display_name": "Python (Pyodide)",
      "language": "python"
    },
    "language_info": {
      "codemirror_mode": {
        "name": "python",
        "version": 3
      },
      "file_extension": ".py",
      "mimetype": "text/x-python",
      "name": "python",
      "nbconvert_exporter": "python",
      "pygments_lexer": "ipython3",
      "version": "3.8"
    }
  },
  "nbformat_minor": 5,
  "nbformat": 4,
  "cells": [
    {
      "id": "3bf26fdc-d807-4e70-a6ea-40fecb2c470c",
      "cell_type": "markdown",
      "source": "# ",
      "metadata": {}
    },
    {
      "id": "b4fc45a1-1bf1-450e-be00-96438e5a7f38",
      "cell_type": "markdown",
      "source": "# Phase 1: Setup & Load Data",
      "metadata": {}
    },
    {
      "id": "16e716e1-bb71-4e2d-86b0-5e088cd77e28",
      "cell_type": "code",
      "source": "# 1️⃣ Import libraries\nimport pandas as pd\nimport numpy as np",
      "metadata": {
        "trusted": true
      },
      "outputs": [],
      "execution_count": 1
    },
    {
      "id": "61903e3e-987a-48e0-af87-931080b0a564",
      "cell_type": "code",
      "source": "# 2️⃣ Load dataset (adjust path if downloaded manually)\ndata_path = \"Loan_default.csv\"\ndf = pd.read_csv(data_path)",
      "metadata": {
        "trusted": true
      },
      "outputs": [],
      "execution_count": 2
    },
    {
      "id": "2e7041b3-baa4-454c-8202-2786cd54a041",
      "cell_type": "code",
      "source": "print(\"Dataset shape:\", df.shape)\ndf.head()",
      "metadata": {
        "trusted": true
      },
      "outputs": [
        {
          "name": "stdout",
          "output_type": "stream",
          "text": "Dataset shape: (255347, 18)\n"
        },
        {
          "execution_count": 3,
          "output_type": "execute_result",
          "data": {
            "text/plain": "       LoanID  Age  Income  LoanAmount  CreditScore  MonthsEmployed  \\\n0  I38PQUQS96   56   85994       50587          520              80   \n1  HPSK72WA7R   69   50432      124440          458              15   \n2  C1OZ6DPJ8Y   46   84208      129188          451              26   \n3  V2KKSFM3UN   32   31713       44799          743               0   \n4  EY08JDHTZP   60   20437        9139          633               8   \n\n   NumCreditLines  InterestRate  LoanTerm  DTIRatio    Education  \\\n0               4         15.23        36      0.44   Bachelor's   \n1               1          4.81        60      0.68     Master's   \n2               3         21.17        24      0.31     Master's   \n3               3          7.07        24      0.23  High School   \n4               4          6.51        48      0.73   Bachelor's   \n\n  EmploymentType MaritalStatus HasMortgage HasDependents LoanPurpose  \\\n0      Full-time      Divorced         Yes           Yes       Other   \n1      Full-time       Married          No            No       Other   \n2     Unemployed      Divorced         Yes           Yes        Auto   \n3      Full-time       Married          No            No    Business   \n4     Unemployed      Divorced          No           Yes        Auto   \n\n  HasCoSigner  Default  \n0         Yes        0  \n1         Yes        0  \n2          No        1  \n3          No        0  \n4          No        0  ",
            "text/html": "<div>\n<style scoped>\n    .dataframe tbody tr th:only-of-type {\n        vertical-align: middle;\n    }\n\n    .dataframe tbody tr th {\n        vertical-align: top;\n    }\n\n    .dataframe thead th {\n        text-align: right;\n    }\n</style>\n<table border=\"1\" class=\"dataframe\">\n  <thead>\n    <tr style=\"text-align: right;\">\n      <th></th>\n      <th>LoanID</th>\n      <th>Age</th>\n      <th>Income</th>\n      <th>LoanAmount</th>\n      <th>CreditScore</th>\n      <th>MonthsEmployed</th>\n      <th>NumCreditLines</th>\n      <th>InterestRate</th>\n      <th>LoanTerm</th>\n      <th>DTIRatio</th>\n      <th>Education</th>\n      <th>EmploymentType</th>\n      <th>MaritalStatus</th>\n      <th>HasMortgage</th>\n      <th>HasDependents</th>\n      <th>LoanPurpose</th>\n      <th>HasCoSigner</th>\n      <th>Default</th>\n    </tr>\n  </thead>\n  <tbody>\n    <tr>\n      <th>0</th>\n      <td>I38PQUQS96</td>\n      <td>56</td>\n      <td>85994</td>\n      <td>50587</td>\n      <td>520</td>\n      <td>80</td>\n      <td>4</td>\n      <td>15.23</td>\n      <td>36</td>\n      <td>0.44</td>\n      <td>Bachelor's</td>\n      <td>Full-time</td>\n      <td>Divorced</td>\n      <td>Yes</td>\n      <td>Yes</td>\n      <td>Other</td>\n      <td>Yes</td>\n      <td>0</td>\n    </tr>\n    <tr>\n      <th>1</th>\n      <td>HPSK72WA7R</td>\n      <td>69</td>\n      <td>50432</td>\n      <td>124440</td>\n      <td>458</td>\n      <td>15</td>\n      <td>1</td>\n      <td>4.81</td>\n      <td>60</td>\n      <td>0.68</td>\n      <td>Master's</td>\n      <td>Full-time</td>\n      <td>Married</td>\n      <td>No</td>\n      <td>No</td>\n      <td>Other</td>\n      <td>Yes</td>\n      <td>0</td>\n    </tr>\n    <tr>\n      <th>2</th>\n      <td>C1OZ6DPJ8Y</td>\n      <td>46</td>\n      <td>84208</td>\n      <td>129188</td>\n      <td>451</td>\n      <td>26</td>\n      <td>3</td>\n      <td>21.17</td>\n      <td>24</td>\n      <td>0.31</td>\n      <td>Master's</td>\n      <td>Unemployed</td>\n      <td>Divorced</td>\n      <td>Yes</td>\n      <td>Yes</td>\n      <td>Auto</td>\n      <td>No</td>\n      <td>1</td>\n    </tr>\n    <tr>\n      <th>3</th>\n      <td>V2KKSFM3UN</td>\n      <td>32</td>\n      <td>31713</td>\n      <td>44799</td>\n      <td>743</td>\n      <td>0</td>\n      <td>3</td>\n      <td>7.07</td>\n      <td>24</td>\n      <td>0.23</td>\n      <td>High School</td>\n      <td>Full-time</td>\n      <td>Married</td>\n      <td>No</td>\n      <td>No</td>\n      <td>Business</td>\n      <td>No</td>\n      <td>0</td>\n    </tr>\n    <tr>\n      <th>4</th>\n      <td>EY08JDHTZP</td>\n      <td>60</td>\n      <td>20437</td>\n      <td>9139</td>\n      <td>633</td>\n      <td>8</td>\n      <td>4</td>\n      <td>6.51</td>\n      <td>48</td>\n      <td>0.73</td>\n      <td>Bachelor's</td>\n      <td>Unemployed</td>\n      <td>Divorced</td>\n      <td>No</td>\n      <td>Yes</td>\n      <td>Auto</td>\n      <td>No</td>\n      <td>0</td>\n    </tr>\n  </tbody>\n</table>\n</div>"
          },
          "metadata": {}
        }
      ],
      "execution_count": 3
    },
    {
      "id": "c5a9c563-c52e-45ce-98af-1ddbaf21d3da",
      "cell_type": "markdown",
      "source": "# Phase 2: Data Cleaning & Inspection",
      "metadata": {}
    },
    {
      "id": "dff585e7-8df8-4e9b-b959-63d69adf6d78",
      "cell_type": "code",
      "source": "# Check column names and data types\nprint(\"Columns and data types:\")\nprint(df.dtypes)",
      "metadata": {
        "trusted": true
      },
      "outputs": [
        {
          "name": "stdout",
          "output_type": "stream",
          "text": "Columns and data types:\nLoanID             object\nAge                 int64\nIncome              int64\nLoanAmount          int64\nCreditScore         int64\nMonthsEmployed      int64\nNumCreditLines      int64\nInterestRate      float64\nLoanTerm            int64\nDTIRatio          float64\nEducation          object\nEmploymentType     object\nMaritalStatus      object\nHasMortgage        object\nHasDependents      object\nLoanPurpose        object\nHasCoSigner        object\nDefault             int64\ndtype: object\n"
        }
      ],
      "execution_count": 4
    },
    {
      "id": "6e48b22d-4d89-412d-b605-516c6523d111",
      "cell_type": "code",
      "source": "# Check for missing values\nprint(\"\\nMissing values per column:\")\nprint(df.isnull().sum())",
      "metadata": {
        "trusted": true
      },
      "outputs": [
        {
          "name": "stdout",
          "output_type": "stream",
          "text": "\nMissing values per column:\nLoanID            0\nAge               0\nIncome            0\nLoanAmount        0\nCreditScore       0\nMonthsEmployed    0\nNumCreditLines    0\nInterestRate      0\nLoanTerm          0\nDTIRatio          0\nEducation         0\nEmploymentType    0\nMaritalStatus     0\nHasMortgage       0\nHasDependents     0\nLoanPurpose       0\nHasCoSigner       0\nDefault           0\ndtype: int64\n"
        }
      ],
      "execution_count": 5
    },
    {
      "id": "ae4ecc7d-0f38-406f-9dbd-b1109a4260cc",
      "cell_type": "code",
      "source": "# Basic statistics for numeric columns\nprint(\"\\nDescriptive statistics:\")\nprint(df.describe())",
      "metadata": {
        "trusted": true
      },
      "outputs": [
        {
          "name": "stdout",
          "output_type": "stream",
          "text": "\nDescriptive statistics:\n                 Age         Income     LoanAmount    CreditScore  \\\ncount  255347.000000  255347.000000  255347.000000  255347.000000   \nmean       43.498306   82499.304597  127578.865512     574.264346   \nstd        14.990258   38963.013729   70840.706142     158.903867   \nmin        18.000000   15000.000000    5000.000000     300.000000   \n25%        31.000000   48825.500000   66156.000000     437.000000   \n50%        43.000000   82466.000000  127556.000000     574.000000   \n75%        56.000000  116219.000000  188985.000000     712.000000   \nmax        69.000000  149999.000000  249999.000000     849.000000   \n\n       MonthsEmployed  NumCreditLines   InterestRate       LoanTerm  \\\ncount   255347.000000   255347.000000  255347.000000  255347.000000   \nmean        59.541976        2.501036      13.492773      36.025894   \nstd         34.643376        1.117018       6.636443      16.969330   \nmin          0.000000        1.000000       2.000000      12.000000   \n25%         30.000000        2.000000       7.770000      24.000000   \n50%         60.000000        2.000000      13.460000      36.000000   \n75%         90.000000        3.000000      19.250000      48.000000   \nmax        119.000000        4.000000      25.000000      60.000000   \n\n            DTIRatio        Default  \ncount  255347.000000  255347.000000  \nmean        0.500212       0.116128  \nstd         0.230917       0.320379  \nmin         0.100000       0.000000  \n25%         0.300000       0.000000  \n50%         0.500000       0.000000  \n75%         0.700000       0.000000  \nmax         0.900000       1.000000  \n"
        }
      ],
      "execution_count": 6
    },
    {
      "id": "9c3014d2-e118-45c0-b48e-b2d528a57a2d",
      "cell_type": "code",
      "source": "# Check unique values for categorical columns\ncategorical_cols = df.select_dtypes(include=['object']).columns\nfor col in categorical_cols:\n    print(f\"\\nUnique values in {col}:\")\n    print(df[col].value_counts())",
      "metadata": {
        "trusted": true
      },
      "outputs": [
        {
          "name": "stdout",
          "output_type": "stream",
          "text": "\nUnique values in LoanID:\nLoanID\nI38PQUQS96    1\nWGB0GD3150    1\nXATSFC5YHN    1\nCQXDW5VBAG    1\n6AIVUNAJG8    1\n             ..\nZBK3GDL2LI    1\nSP7XY2LPYA    1\nQ2DO8ENMV1    1\n5EXD8N4MT4    1\nZTH91CGL0B    1\nName: count, Length: 255347, dtype: int64\n\nUnique values in Education:\nEducation\nBachelor's     64366\nHigh School    63903\nMaster's       63541\nPhD            63537\nName: count, dtype: int64\n\nUnique values in EmploymentType:\nEmploymentType\nPart-time        64161\nUnemployed       63824\nSelf-employed    63706\nFull-time        63656\nName: count, dtype: int64\n\nUnique values in MaritalStatus:\nMaritalStatus\nMarried     85302\nDivorced    85033\nSingle      85012\nName: count, dtype: int64\n\nUnique values in HasMortgage:\nHasMortgage\nYes    127677\nNo     127670\nName: count, dtype: int64\n\nUnique values in HasDependents:\nHasDependents\nYes    127742\nNo     127605\nName: count, dtype: int64\n\nUnique values in LoanPurpose:\nLoanPurpose\nBusiness     51298\nHome         51286\nEducation    51005\nOther        50914\nAuto         50844\nName: count, dtype: int64\n\nUnique values in HasCoSigner:\nHasCoSigner\nYes    127701\nNo     127646\nName: count, dtype: int64\n"
        }
      ],
      "execution_count": 7
    },
    {
      "id": "97bcfc22-2239-42df-863d-d8fec8050849",
      "cell_type": "markdown",
      "source": "# Phase 3: Feature Preprocessing",
      "metadata": {}
    },
    {
      "id": "e774ba47-a103-43f2-be1d-31957db9dff5",
      "cell_type": "code",
      "source": "from sklearn.model_selection import train_test_split\nfrom sklearn.preprocessing import OneHotEncoder\nfrom sklearn.compose import ColumnTransformer\nfrom sklearn.pipeline import Pipeline\nfrom sklearn.linear_model import LogisticRegression\nfrom sklearn.preprocessing import StandardScaler",
      "metadata": {
        "trusted": true
      },
      "outputs": [],
      "execution_count": 14
    },
    {
      "id": "c094273c-5df9-4ba6-8a16-1cc5051ea024",
      "cell_type": "code",
      "source": "# Define features and target\ntarget = \"Default\"\nfeatures = [col for col in df.columns if col not in [\"LoanID\", target]]",
      "metadata": {
        "trusted": true
      },
      "outputs": [],
      "execution_count": 15
    },
    {
      "id": "a837dd4a-df17-4136-abc6-152cfc717c8c",
      "cell_type": "code",
      "source": "# Identify numeric and categorical columns\nnumeric_features = df[features].select_dtypes(include=['int64', 'float64']).columns.tolist()\ncategorical_features = df[features].select_dtypes(include=['object']).columns.tolist()\n\nprint(\"Numeric features:\", numeric_features)\nprint(\"Categorical features:\", categorical_features)",
      "metadata": {
        "trusted": true
      },
      "outputs": [
        {
          "name": "stdout",
          "output_type": "stream",
          "text": "Numeric features: ['Age', 'Income', 'LoanAmount', 'CreditScore', 'MonthsEmployed', 'NumCreditLines', 'InterestRate', 'LoanTerm', 'DTIRatio']\nCategorical features: ['Education', 'EmploymentType', 'MaritalStatus', 'HasMortgage', 'HasDependents', 'LoanPurpose', 'HasCoSigner']\n"
        }
      ],
      "execution_count": 16
    },
    {
      "id": "24e1d73b-4c03-4988-a68d-fc5c6674fe4b",
      "cell_type": "code",
      "source": "# Split data into train and test\nX = df[features]\ny = df[target]\n\nX_train, X_test, y_train, y_test = train_test_split(X, y, test_size=0.25, random_state=42, stratify=y)",
      "metadata": {
        "trusted": true
      },
      "outputs": [],
      "execution_count": 17
    },
    {
      "id": "01c81b8d-a1c5-44d5-87ed-66cdaa8d9ac5",
      "cell_type": "code",
      "source": "print(\"Training set shape:\", X_train.shape)\nprint(\"Test set shape:\", X_test.shape)",
      "metadata": {
        "trusted": true
      },
      "outputs": [
        {
          "name": "stdout",
          "output_type": "stream",
          "text": "Training set shape: (191510, 16)\nTest set shape: (63837, 16)\n"
        }
      ],
      "execution_count": 18
    },
    {
      "id": "9d6be587-9be7-4603-9bb3-b4752a101c3d",
      "cell_type": "code",
      "source": "# Preprocessing pipeline\nnumeric_features = X_train.select_dtypes(include=['int64', 'float64']).columns\npreprocessor = ColumnTransformer([\n    ('num', StandardScaler(), numeric_features)\n])\n\nprint(\"\\nData preprocessing setup complete.\")",
      "metadata": {
        "trusted": true
      },
      "outputs": [
        {
          "name": "stdout",
          "output_type": "stream",
          "text": "\nData preprocessing setup complete.\n"
        }
      ],
      "execution_count": 19
    },
    {
      "id": "7c018959-5d2a-4c88-b018-a392e887d91a",
      "cell_type": "markdown",
      "source": "# Phase 4: Baseline Credit Risk Model",
      "metadata": {}
    },
    {
      "id": "7ecceddc-8fcd-4a38-a140-d85ed751d8e0",
      "cell_type": "code",
      "source": "# Create pipeline: preprocessing + Logistic Regression\nmodel = Pipeline(steps=[\n    (\"preprocessor\", preprocessor),\n    (\"classifier\", LogisticRegression(solver='saga',max_iter=200,n_jobs=-1))\n])",
      "metadata": {
        "trusted": true
      },
      "outputs": [],
      "execution_count": 26
    },
    {
      "id": "bb37d82f-2609-4198-a5ed-f3a9d49035f6",
      "cell_type": "code",
      "source": "# Train the model \nmodel.fit(X_train, y_train) ",
      "metadata": {
        "trusted": true
      },
      "outputs": [
        {
          "execution_count": 27,
          "output_type": "execute_result",
          "data": {
            "text/plain": "Pipeline(steps=[('preprocessor',\n                 ColumnTransformer(transformers=[('num', StandardScaler(),\n                                                  Index(['Age', 'Income', 'LoanAmount', 'CreditScore', 'MonthsEmployed',\n       'NumCreditLines', 'InterestRate', 'LoanTerm', 'DTIRatio'],\n      dtype='object'))])),\n                ('classifier',\n                 LogisticRegression(max_iter=200, n_jobs=-1, solver='saga'))])",
            "text/html": "<style>#sk-container-id-3 {\n  /* Definition of color scheme common for light and dark mode */\n  --sklearn-color-text: #000;\n  --sklearn-color-text-muted: #666;\n  --sklearn-color-line: gray;\n  /* Definition of color scheme for unfitted estimators */\n  --sklearn-color-unfitted-level-0: #fff5e6;\n  --sklearn-color-unfitted-level-1: #f6e4d2;\n  --sklearn-color-unfitted-level-2: #ffe0b3;\n  --sklearn-color-unfitted-level-3: chocolate;\n  /* Definition of color scheme for fitted estimators */\n  --sklearn-color-fitted-level-0: #f0f8ff;\n  --sklearn-color-fitted-level-1: #d4ebff;\n  --sklearn-color-fitted-level-2: #b3dbfd;\n  --sklearn-color-fitted-level-3: cornflowerblue;\n\n  /* Specific color for light theme */\n  --sklearn-color-text-on-default-background: var(--sg-text-color, var(--theme-code-foreground, var(--jp-content-font-color1, black)));\n  --sklearn-color-background: var(--sg-background-color, var(--theme-background, var(--jp-layout-color0, white)));\n  --sklearn-color-border-box: var(--sg-text-color, var(--theme-code-foreground, var(--jp-content-font-color1, black)));\n  --sklearn-color-icon: #696969;\n\n  @media (prefers-color-scheme: dark) {\n    /* Redefinition of color scheme for dark theme */\n    --sklearn-color-text-on-default-background: var(--sg-text-color, var(--theme-code-foreground, var(--jp-content-font-color1, white)));\n    --sklearn-color-background: var(--sg-background-color, var(--theme-background, var(--jp-layout-color0, #111)));\n    --sklearn-color-border-box: var(--sg-text-color, var(--theme-code-foreground, var(--jp-content-font-color1, white)));\n    --sklearn-color-icon: #878787;\n  }\n}\n\n#sk-container-id-3 {\n  color: var(--sklearn-color-text);\n}\n\n#sk-container-id-3 pre {\n  padding: 0;\n}\n\n#sk-container-id-3 input.sk-hidden--visually {\n  border: 0;\n  clip: rect(1px 1px 1px 1px);\n  clip: rect(1px, 1px, 1px, 1px);\n  height: 1px;\n  margin: -1px;\n  overflow: hidden;\n  padding: 0;\n  position: absolute;\n  width: 1px;\n}\n\n#sk-container-id-3 div.sk-dashed-wrapped {\n  border: 1px dashed var(--sklearn-color-line);\n  margin: 0 0.4em 0.5em 0.4em;\n  box-sizing: border-box;\n  padding-bottom: 0.4em;\n  background-color: var(--sklearn-color-background);\n}\n\n#sk-container-id-3 div.sk-container {\n  /* jupyter's `normalize.less` sets `[hidden] { display: none; }`\n     but bootstrap.min.css set `[hidden] { display: none !important; }`\n     so we also need the `!important` here to be able to override the\n     default hidden behavior on the sphinx rendered scikit-learn.org.\n     See: https://github.com/scikit-learn/scikit-learn/issues/21755 */\n  display: inline-block !important;\n  position: relative;\n}\n\n#sk-container-id-3 div.sk-text-repr-fallback {\n  display: none;\n}\n\ndiv.sk-parallel-item,\ndiv.sk-serial,\ndiv.sk-item {\n  /* draw centered vertical line to link estimators */\n  background-image: linear-gradient(var(--sklearn-color-text-on-default-background), var(--sklearn-color-text-on-default-background));\n  background-size: 2px 100%;\n  background-repeat: no-repeat;\n  background-position: center center;\n}\n\n/* Parallel-specific style estimator block */\n\n#sk-container-id-3 div.sk-parallel-item::after {\n  content: \"\";\n  width: 100%;\n  border-bottom: 2px solid var(--sklearn-color-text-on-default-background);\n  flex-grow: 1;\n}\n\n#sk-container-id-3 div.sk-parallel {\n  display: flex;\n  align-items: stretch;\n  justify-content: center;\n  background-color: var(--sklearn-color-background);\n  position: relative;\n}\n\n#sk-container-id-3 div.sk-parallel-item {\n  display: flex;\n  flex-direction: column;\n}\n\n#sk-container-id-3 div.sk-parallel-item:first-child::after {\n  align-self: flex-end;\n  width: 50%;\n}\n\n#sk-container-id-3 div.sk-parallel-item:last-child::after {\n  align-self: flex-start;\n  width: 50%;\n}\n\n#sk-container-id-3 div.sk-parallel-item:only-child::after {\n  width: 0;\n}\n\n/* Serial-specific style estimator block */\n\n#sk-container-id-3 div.sk-serial {\n  display: flex;\n  flex-direction: column;\n  align-items: center;\n  background-color: var(--sklearn-color-background);\n  padding-right: 1em;\n  padding-left: 1em;\n}\n\n\n/* Toggleable style: style used for estimator/Pipeline/ColumnTransformer box that is\nclickable and can be expanded/collapsed.\n- Pipeline and ColumnTransformer use this feature and define the default style\n- Estimators will overwrite some part of the style using the `sk-estimator` class\n*/\n\n/* Pipeline and ColumnTransformer style (default) */\n\n#sk-container-id-3 div.sk-toggleable {\n  /* Default theme specific background. It is overwritten whether we have a\n  specific estimator or a Pipeline/ColumnTransformer */\n  background-color: var(--sklearn-color-background);\n}\n\n/* Toggleable label */\n#sk-container-id-3 label.sk-toggleable__label {\n  cursor: pointer;\n  display: flex;\n  width: 100%;\n  margin-bottom: 0;\n  padding: 0.5em;\n  box-sizing: border-box;\n  text-align: center;\n  align-items: start;\n  justify-content: space-between;\n  gap: 0.5em;\n}\n\n#sk-container-id-3 label.sk-toggleable__label .caption {\n  font-size: 0.6rem;\n  font-weight: lighter;\n  color: var(--sklearn-color-text-muted);\n}\n\n#sk-container-id-3 label.sk-toggleable__label-arrow:before {\n  /* Arrow on the left of the label */\n  content: \"▸\";\n  float: left;\n  margin-right: 0.25em;\n  color: var(--sklearn-color-icon);\n}\n\n#sk-container-id-3 label.sk-toggleable__label-arrow:hover:before {\n  color: var(--sklearn-color-text);\n}\n\n/* Toggleable content - dropdown */\n\n#sk-container-id-3 div.sk-toggleable__content {\n  max-height: 0;\n  max-width: 0;\n  overflow: hidden;\n  text-align: left;\n  /* unfitted */\n  background-color: var(--sklearn-color-unfitted-level-0);\n}\n\n#sk-container-id-3 div.sk-toggleable__content.fitted {\n  /* fitted */\n  background-color: var(--sklearn-color-fitted-level-0);\n}\n\n#sk-container-id-3 div.sk-toggleable__content pre {\n  margin: 0.2em;\n  border-radius: 0.25em;\n  color: var(--sklearn-color-text);\n  /* unfitted */\n  background-color: var(--sklearn-color-unfitted-level-0);\n}\n\n#sk-container-id-3 div.sk-toggleable__content.fitted pre {\n  /* unfitted */\n  background-color: var(--sklearn-color-fitted-level-0);\n}\n\n#sk-container-id-3 input.sk-toggleable__control:checked~div.sk-toggleable__content {\n  /* Expand drop-down */\n  max-height: 200px;\n  max-width: 100%;\n  overflow: auto;\n}\n\n#sk-container-id-3 input.sk-toggleable__control:checked~label.sk-toggleable__label-arrow:before {\n  content: \"▾\";\n}\n\n/* Pipeline/ColumnTransformer-specific style */\n\n#sk-container-id-3 div.sk-label input.sk-toggleable__control:checked~label.sk-toggleable__label {\n  color: var(--sklearn-color-text);\n  background-color: var(--sklearn-color-unfitted-level-2);\n}\n\n#sk-container-id-3 div.sk-label.fitted input.sk-toggleable__control:checked~label.sk-toggleable__label {\n  background-color: var(--sklearn-color-fitted-level-2);\n}\n\n/* Estimator-specific style */\n\n/* Colorize estimator box */\n#sk-container-id-3 div.sk-estimator input.sk-toggleable__control:checked~label.sk-toggleable__label {\n  /* unfitted */\n  background-color: var(--sklearn-color-unfitted-level-2);\n}\n\n#sk-container-id-3 div.sk-estimator.fitted input.sk-toggleable__control:checked~label.sk-toggleable__label {\n  /* fitted */\n  background-color: var(--sklearn-color-fitted-level-2);\n}\n\n#sk-container-id-3 div.sk-label label.sk-toggleable__label,\n#sk-container-id-3 div.sk-label label {\n  /* The background is the default theme color */\n  color: var(--sklearn-color-text-on-default-background);\n}\n\n/* On hover, darken the color of the background */\n#sk-container-id-3 div.sk-label:hover label.sk-toggleable__label {\n  color: var(--sklearn-color-text);\n  background-color: var(--sklearn-color-unfitted-level-2);\n}\n\n/* Label box, darken color on hover, fitted */\n#sk-container-id-3 div.sk-label.fitted:hover label.sk-toggleable__label.fitted {\n  color: var(--sklearn-color-text);\n  background-color: var(--sklearn-color-fitted-level-2);\n}\n\n/* Estimator label */\n\n#sk-container-id-3 div.sk-label label {\n  font-family: monospace;\n  font-weight: bold;\n  display: inline-block;\n  line-height: 1.2em;\n}\n\n#sk-container-id-3 div.sk-label-container {\n  text-align: center;\n}\n\n/* Estimator-specific */\n#sk-container-id-3 div.sk-estimator {\n  font-family: monospace;\n  border: 1px dotted var(--sklearn-color-border-box);\n  border-radius: 0.25em;\n  box-sizing: border-box;\n  margin-bottom: 0.5em;\n  /* unfitted */\n  background-color: var(--sklearn-color-unfitted-level-0);\n}\n\n#sk-container-id-3 div.sk-estimator.fitted {\n  /* fitted */\n  background-color: var(--sklearn-color-fitted-level-0);\n}\n\n/* on hover */\n#sk-container-id-3 div.sk-estimator:hover {\n  /* unfitted */\n  background-color: var(--sklearn-color-unfitted-level-2);\n}\n\n#sk-container-id-3 div.sk-estimator.fitted:hover {\n  /* fitted */\n  background-color: var(--sklearn-color-fitted-level-2);\n}\n\n/* Specification for estimator info (e.g. \"i\" and \"?\") */\n\n/* Common style for \"i\" and \"?\" */\n\n.sk-estimator-doc-link,\na:link.sk-estimator-doc-link,\na:visited.sk-estimator-doc-link {\n  float: right;\n  font-size: smaller;\n  line-height: 1em;\n  font-family: monospace;\n  background-color: var(--sklearn-color-background);\n  border-radius: 1em;\n  height: 1em;\n  width: 1em;\n  text-decoration: none !important;\n  margin-left: 0.5em;\n  text-align: center;\n  /* unfitted */\n  border: var(--sklearn-color-unfitted-level-1) 1pt solid;\n  color: var(--sklearn-color-unfitted-level-1);\n}\n\n.sk-estimator-doc-link.fitted,\na:link.sk-estimator-doc-link.fitted,\na:visited.sk-estimator-doc-link.fitted {\n  /* fitted */\n  border: var(--sklearn-color-fitted-level-1) 1pt solid;\n  color: var(--sklearn-color-fitted-level-1);\n}\n\n/* On hover */\ndiv.sk-estimator:hover .sk-estimator-doc-link:hover,\n.sk-estimator-doc-link:hover,\ndiv.sk-label-container:hover .sk-estimator-doc-link:hover,\n.sk-estimator-doc-link:hover {\n  /* unfitted */\n  background-color: var(--sklearn-color-unfitted-level-3);\n  color: var(--sklearn-color-background);\n  text-decoration: none;\n}\n\ndiv.sk-estimator.fitted:hover .sk-estimator-doc-link.fitted:hover,\n.sk-estimator-doc-link.fitted:hover,\ndiv.sk-label-container:hover .sk-estimator-doc-link.fitted:hover,\n.sk-estimator-doc-link.fitted:hover {\n  /* fitted */\n  background-color: var(--sklearn-color-fitted-level-3);\n  color: var(--sklearn-color-background);\n  text-decoration: none;\n}\n\n/* Span, style for the box shown on hovering the info icon */\n.sk-estimator-doc-link span {\n  display: none;\n  z-index: 9999;\n  position: relative;\n  font-weight: normal;\n  right: .2ex;\n  padding: .5ex;\n  margin: .5ex;\n  width: min-content;\n  min-width: 20ex;\n  max-width: 50ex;\n  color: var(--sklearn-color-text);\n  box-shadow: 2pt 2pt 4pt #999;\n  /* unfitted */\n  background: var(--sklearn-color-unfitted-level-0);\n  border: .5pt solid var(--sklearn-color-unfitted-level-3);\n}\n\n.sk-estimator-doc-link.fitted span {\n  /* fitted */\n  background: var(--sklearn-color-fitted-level-0);\n  border: var(--sklearn-color-fitted-level-3);\n}\n\n.sk-estimator-doc-link:hover span {\n  display: block;\n}\n\n/* \"?\"-specific style due to the `<a>` HTML tag */\n\n#sk-container-id-3 a.estimator_doc_link {\n  float: right;\n  font-size: 1rem;\n  line-height: 1em;\n  font-family: monospace;\n  background-color: var(--sklearn-color-background);\n  border-radius: 1rem;\n  height: 1rem;\n  width: 1rem;\n  text-decoration: none;\n  /* unfitted */\n  color: var(--sklearn-color-unfitted-level-1);\n  border: var(--sklearn-color-unfitted-level-1) 1pt solid;\n}\n\n#sk-container-id-3 a.estimator_doc_link.fitted {\n  /* fitted */\n  border: var(--sklearn-color-fitted-level-1) 1pt solid;\n  color: var(--sklearn-color-fitted-level-1);\n}\n\n/* On hover */\n#sk-container-id-3 a.estimator_doc_link:hover {\n  /* unfitted */\n  background-color: var(--sklearn-color-unfitted-level-3);\n  color: var(--sklearn-color-background);\n  text-decoration: none;\n}\n\n#sk-container-id-3 a.estimator_doc_link.fitted:hover {\n  /* fitted */\n  background-color: var(--sklearn-color-fitted-level-3);\n}\n</style><div id=\"sk-container-id-3\" class=\"sk-top-container\"><div class=\"sk-text-repr-fallback\"><pre>Pipeline(steps=[(&#x27;preprocessor&#x27;,\n                 ColumnTransformer(transformers=[(&#x27;num&#x27;, StandardScaler(),\n                                                  Index([&#x27;Age&#x27;, &#x27;Income&#x27;, &#x27;LoanAmount&#x27;, &#x27;CreditScore&#x27;, &#x27;MonthsEmployed&#x27;,\n       &#x27;NumCreditLines&#x27;, &#x27;InterestRate&#x27;, &#x27;LoanTerm&#x27;, &#x27;DTIRatio&#x27;],\n      dtype=&#x27;object&#x27;))])),\n                (&#x27;classifier&#x27;,\n                 LogisticRegression(max_iter=200, n_jobs=-1, solver=&#x27;saga&#x27;))])</pre><b>In a Jupyter environment, please rerun this cell to show the HTML representation or trust the notebook. <br />On GitHub, the HTML representation is unable to render, please try loading this page with nbviewer.org.</b></div><div class=\"sk-container\" hidden><div class=\"sk-item sk-dashed-wrapped\"><div class=\"sk-label-container\"><div class=\"sk-label fitted sk-toggleable\"><input class=\"sk-toggleable__control sk-hidden--visually\" id=\"sk-estimator-id-11\" type=\"checkbox\" ><label for=\"sk-estimator-id-11\" class=\"sk-toggleable__label fitted sk-toggleable__label-arrow\"><div><div>Pipeline</div></div><div><a class=\"sk-estimator-doc-link fitted\" rel=\"noreferrer\" target=\"_blank\" href=\"https://scikit-learn.org/1.6/modules/generated/sklearn.pipeline.Pipeline.html\">?<span>Documentation for Pipeline</span></a><span class=\"sk-estimator-doc-link fitted\">i<span>Fitted</span></span></div></label><div class=\"sk-toggleable__content fitted\"><pre>Pipeline(steps=[(&#x27;preprocessor&#x27;,\n                 ColumnTransformer(transformers=[(&#x27;num&#x27;, StandardScaler(),\n                                                  Index([&#x27;Age&#x27;, &#x27;Income&#x27;, &#x27;LoanAmount&#x27;, &#x27;CreditScore&#x27;, &#x27;MonthsEmployed&#x27;,\n       &#x27;NumCreditLines&#x27;, &#x27;InterestRate&#x27;, &#x27;LoanTerm&#x27;, &#x27;DTIRatio&#x27;],\n      dtype=&#x27;object&#x27;))])),\n                (&#x27;classifier&#x27;,\n                 LogisticRegression(max_iter=200, n_jobs=-1, solver=&#x27;saga&#x27;))])</pre></div> </div></div><div class=\"sk-serial\"><div class=\"sk-item sk-dashed-wrapped\"><div class=\"sk-label-container\"><div class=\"sk-label fitted sk-toggleable\"><input class=\"sk-toggleable__control sk-hidden--visually\" id=\"sk-estimator-id-12\" type=\"checkbox\" ><label for=\"sk-estimator-id-12\" class=\"sk-toggleable__label fitted sk-toggleable__label-arrow\"><div><div>preprocessor: ColumnTransformer</div></div><div><a class=\"sk-estimator-doc-link fitted\" rel=\"noreferrer\" target=\"_blank\" href=\"https://scikit-learn.org/1.6/modules/generated/sklearn.compose.ColumnTransformer.html\">?<span>Documentation for preprocessor: ColumnTransformer</span></a></div></label><div class=\"sk-toggleable__content fitted\"><pre>ColumnTransformer(transformers=[(&#x27;num&#x27;, StandardScaler(),\n                                 Index([&#x27;Age&#x27;, &#x27;Income&#x27;, &#x27;LoanAmount&#x27;, &#x27;CreditScore&#x27;, &#x27;MonthsEmployed&#x27;,\n       &#x27;NumCreditLines&#x27;, &#x27;InterestRate&#x27;, &#x27;LoanTerm&#x27;, &#x27;DTIRatio&#x27;],\n      dtype=&#x27;object&#x27;))])</pre></div> </div></div><div class=\"sk-parallel\"><div class=\"sk-parallel-item\"><div class=\"sk-item\"><div class=\"sk-label-container\"><div class=\"sk-label fitted sk-toggleable\"><input class=\"sk-toggleable__control sk-hidden--visually\" id=\"sk-estimator-id-13\" type=\"checkbox\" ><label for=\"sk-estimator-id-13\" class=\"sk-toggleable__label fitted sk-toggleable__label-arrow\"><div><div>num</div></div></label><div class=\"sk-toggleable__content fitted\"><pre>Index([&#x27;Age&#x27;, &#x27;Income&#x27;, &#x27;LoanAmount&#x27;, &#x27;CreditScore&#x27;, &#x27;MonthsEmployed&#x27;,\n       &#x27;NumCreditLines&#x27;, &#x27;InterestRate&#x27;, &#x27;LoanTerm&#x27;, &#x27;DTIRatio&#x27;],\n      dtype=&#x27;object&#x27;)</pre></div> </div></div><div class=\"sk-serial\"><div class=\"sk-item\"><div class=\"sk-estimator fitted sk-toggleable\"><input class=\"sk-toggleable__control sk-hidden--visually\" id=\"sk-estimator-id-14\" type=\"checkbox\" ><label for=\"sk-estimator-id-14\" class=\"sk-toggleable__label fitted sk-toggleable__label-arrow\"><div><div>StandardScaler</div></div><div><a class=\"sk-estimator-doc-link fitted\" rel=\"noreferrer\" target=\"_blank\" href=\"https://scikit-learn.org/1.6/modules/generated/sklearn.preprocessing.StandardScaler.html\">?<span>Documentation for StandardScaler</span></a></div></label><div class=\"sk-toggleable__content fitted\"><pre>StandardScaler()</pre></div> </div></div></div></div></div></div></div><div class=\"sk-item\"><div class=\"sk-estimator fitted sk-toggleable\"><input class=\"sk-toggleable__control sk-hidden--visually\" id=\"sk-estimator-id-15\" type=\"checkbox\" ><label for=\"sk-estimator-id-15\" class=\"sk-toggleable__label fitted sk-toggleable__label-arrow\"><div><div>LogisticRegression</div></div><div><a class=\"sk-estimator-doc-link fitted\" rel=\"noreferrer\" target=\"_blank\" href=\"https://scikit-learn.org/1.6/modules/generated/sklearn.linear_model.LogisticRegression.html\">?<span>Documentation for LogisticRegression</span></a></div></label><div class=\"sk-toggleable__content fitted\"><pre>LogisticRegression(max_iter=200, n_jobs=-1, solver=&#x27;saga&#x27;)</pre></div> </div></div></div></div></div></div>"
          },
          "metadata": {}
        }
      ],
      "execution_count": 27
    },
    {
      "id": "f81b0b0b-9fdf-4be3-a592-baf1537c9e27",
      "cell_type": "code",
      "source": "# Predict on test set \ny_pred = model.predict(X_test)\ny_pred_proba = model.predict_proba(X_test)[:,1] ",
      "metadata": {
        "trusted": true
      },
      "outputs": [],
      "execution_count": 28
    },
    {
      "id": "75b046b3-51ff-43cd-abfa-d2e0b864f30e",
      "cell_type": "code",
      "source": "from sklearn.metrics import accuracy_score, roc_auc_score, classification_report, confusion_matrix\n\n# Accuracy\naccuracy = accuracy_score(y_test, y_pred)\nprint(\"Accuracy:\", accuracy)\n\n# ROC-AUC\nroc_auc = roc_auc_score(y_test, y_pred_proba)\nprint(\"ROC-AUC:\", roc_auc)\n\n# Detailed Classification Report\nprint(\"\\nClassification Report:\\n\", classification_report(y_test, y_pred))\n\n# Confusion Matrix\nprint(\"\\nConfusion Matrix:\\n\", confusion_matrix(y_test, y_pred))",
      "metadata": {
        "trusted": true
      },
      "outputs": [
        {
          "name": "stdout",
          "output_type": "stream",
          "text": "Accuracy: 0.8845497125491486\nROC-AUC: 0.7428975228870218\n\nClassification Report:\n               precision    recall  f1-score   support\n\n           0       0.89      1.00      0.94     56424\n           1       0.58      0.02      0.04      7413\n\n    accuracy                           0.88     63837\n   macro avg       0.73      0.51      0.49     63837\nweighted avg       0.85      0.88      0.83     63837\n\n\nConfusion Matrix:\n [[56315   109]\n [ 7261   152]]\n"
        }
      ],
      "execution_count": 29
    },
    {
      "id": "b20597b6-22f6-4fb7-aedc-7630f6d786df",
      "cell_type": "code",
      "source": "import pandas as pd\n\n# Only works if you have a numeric preprocessor\ncoefficients = model.named_steps['classifier'].coef_[0]\nfeature_importance = pd.DataFrame({'feature': numeric_features, 'coef': coefficients})\nfeature_importance = feature_importance.sort_values(by='coef', key=abs, ascending=False)\nprint(feature_importance)",
      "metadata": {
        "trusted": true
      },
      "outputs": [
        {
          "name": "stdout",
          "output_type": "stream",
          "text": "          feature      coef\n0             Age -0.577617\n6    InterestRate  0.450590\n1          Income -0.334381\n4  MonthsEmployed -0.331852\n2      LoanAmount  0.294375\n3     CreditScore -0.121384\n5  NumCreditLines  0.098376\n8        DTIRatio  0.066645\n7        LoanTerm  0.003271\n"
        }
      ],
      "execution_count": 30
    },
    {
      "id": "36b17853-f68b-4c65-bd66-1a30689a2a38",
      "cell_type": "code",
      "source": "from sklearn.model_selection import GridSearchCV\n\nparam_grid = {\n    'classifier__C': [0.01, 0.1, 1, 10],\n    'classifier__solver': ['lbfgs', 'saga']\n}\n\ngrid_search = GridSearchCV(model, param_grid, cv=5, scoring='roc_auc')\ngrid_search.fit(X_train, y_train)\nprint(grid_search.best_params_)",
      "metadata": {
        "trusted": true
      },
      "outputs": [
        {
          "name": "stdout",
          "output_type": "stream",
          "text": "{'classifier__C': 10, 'classifier__solver': 'lbfgs'}\n"
        }
      ],
      "execution_count": 34
    },
    {
      "id": "9cd00cdf-c989-46c1-ab6c-97183fb063d6",
      "cell_type": "code",
      "source": "import joblib\njoblib.dump(model, 'logistic_model.pkl')",
      "metadata": {
        "trusted": true
      },
      "outputs": [
        {
          "execution_count": 35,
          "output_type": "execute_result",
          "data": {
            "text/plain": "['logistic_model.pkl']"
          },
          "metadata": {}
        }
      ],
      "execution_count": 35
    },
    {
      "id": "b51f7be4-93d8-439e-9669-01bab72ce821",
      "cell_type": "code",
      "source": "",
      "metadata": {
        "trusted": true
      },
      "outputs": [],
      "execution_count": null
    },
    {
      "id": "c0a80b28-3c4c-40ea-a450-1a42e86c34c8",
      "cell_type": "code",
      "source": "",
      "metadata": {
        "trusted": true
      },
      "outputs": [],
      "execution_count": null
    },
    {
      "id": "3aa3a842-78a8-4a4b-b368-e34701f91dd3",
      "cell_type": "code",
      "source": "",
      "metadata": {
        "trusted": true
      },
      "outputs": [],
      "execution_count": null
    }
  ]
}